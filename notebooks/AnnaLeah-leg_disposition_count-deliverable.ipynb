{
 "cells": [
  {
   "cell_type": "markdown",
   "id": "74b9c5cf-712e-4983-aa5c-0d07d1727496",
   "metadata": {},
   "source": [
    "Import Your Libraries, Lady!"
   ]
  },
  {
   "cell_type": "code",
   "execution_count": 1,
   "id": "bc68c4c8-3eec-4662-a503-be45e43b0512",
   "metadata": {},
   "outputs": [],
   "source": [
    "import spacy\n",
    "import pandas as pd\n",
    "from collections import Counter"
   ]
  },
  {
   "cell_type": "markdown",
   "id": "8a4e5dc6-fc77-4b14-984f-507c90cb4e53",
   "metadata": {},
   "source": [
    "And load SpaCy into the NLP space"
   ]
  },
  {
   "cell_type": "code",
   "execution_count": 2,
   "id": "5b6e84c2-6e04-4dfb-8753-b2969411a48d",
   "metadata": {},
   "outputs": [],
   "source": [
    "nlp = spacy.load(\"en_core_web_sm\")"
   ]
  },
  {
   "cell_type": "markdown",
   "id": "5207b7d4-a609-4e69-aec6-940e5055fd90",
   "metadata": {},
   "source": [
    "Load the .txt file you created, with the legislative language.\n",
    "Feel free to check types, lengths, and print functions along the way."
   ]
  },
  {
   "cell_type": "code",
   "execution_count": 12,
   "id": "93e69691-e134-4a1c-bddb-f951e273678a",
   "metadata": {
    "scrolled": true
   },
   "outputs": [],
   "source": [
    "text = open(\"../data/bills_lang.txt\", \"r+\").read()"
   ]
  },
  {
   "cell_type": "markdown",
   "id": "bd50d227-bda7-4689-8dc0-aa56e5191a7e",
   "metadata": {},
   "source": [
    "Convert that text into a natural language process object, tokenifying in the process."
   ]
  },
  {
   "cell_type": "code",
   "execution_count": 4,
   "id": "be889548-1874-43e9-8a31-492d41f8a4c9",
   "metadata": {},
   "outputs": [],
   "source": [
    "bills=nlp(text)"
   ]
  },
  {
   "cell_type": "markdown",
   "id": "748f1126-9ccc-4b98-8247-f48a66554c6e",
   "metadata": {},
   "source": [
    "Load stopwords, removing unnecessary and irrelevant words."
   ]
  },
  {
   "cell_type": "code",
   "execution_count": 5,
   "id": "67cd2c44-2120-4ce9-b577-3e1f09997b3e",
   "metadata": {},
   "outputs": [],
   "source": [
    "with open(\"../data/stopwords.txt\",\"r\") as file:\n",
    "    stopwords=file.read().split(\"\\n\")"
   ]
  },
  {
   "cell_type": "markdown",
   "id": "f733151a-a964-42a0-bac3-07898b91149c",
   "metadata": {},
   "source": [
    "Loop through stopwords and create a library to be referenced in the next step."
   ]
  },
  {
   "cell_type": "code",
   "execution_count": 6,
   "id": "8cb2b25d-99f8-4e58-806f-4183290f413f",
   "metadata": {},
   "outputs": [],
   "source": [
    "for stop_word in stopwords:\n",
    "    lexeme=nlp.vocab[stop_word]\n",
    "    lexeme.is_stop=True"
   ]
  },
  {
   "cell_type": "markdown",
   "id": "c5200c21-9920-4a5f-af9b-2242454affd1",
   "metadata": {},
   "source": [
    "The main act: remove stopwords, lemmatize your corpus, and append everything into a list."
   ]
  },
  {
   "cell_type": "code",
   "execution_count": 7,
   "id": "eaee796e-a75e-459f-b847-e6ca071689a2",
   "metadata": {},
   "outputs": [],
   "source": [
    "text_list = []\n",
    "for token in bills:\n",
    "     if token.text != \"\\n\" and not token.is_stop and not token.is_punct:\n",
    "        text_list.append(token.lemma_.lower())"
   ]
  },
  {
   "cell_type": "markdown",
   "id": "33f1828b-14e6-4ba6-a1ee-f7d99c90f4e7",
   "metadata": {},
   "source": [
    "Turn list into a dataframe."
   ]
  },
  {
   "cell_type": "code",
   "execution_count": 8,
   "id": "9ee3f700-05bb-437f-b6f3-9675f2a980fb",
   "metadata": {},
   "outputs": [
    {
     "data": {
      "text/html": [
       "<div>\n",
       "<style scoped>\n",
       "    .dataframe tbody tr th:only-of-type {\n",
       "        vertical-align: middle;\n",
       "    }\n",
       "\n",
       "    .dataframe tbody tr th {\n",
       "        vertical-align: top;\n",
       "    }\n",
       "\n",
       "    .dataframe thead th {\n",
       "        text-align: right;\n",
       "    }\n",
       "</style>\n",
       "<table border=\"1\" class=\"dataframe\">\n",
       "  <thead>\n",
       "    <tr style=\"text-align: right;\">\n",
       "      <th></th>\n",
       "      <th>term</th>\n",
       "    </tr>\n",
       "  </thead>\n",
       "  <tbody>\n",
       "    <tr>\n",
       "      <th>0</th>\n",
       "      <td>louisiana</td>\n",
       "    </tr>\n",
       "    <tr>\n",
       "      <th>1</th>\n",
       "      <td>representatives</td>\n",
       "    </tr>\n",
       "    <tr>\n",
       "      <th>2</th>\n",
       "      <td>willmott</td>\n",
       "    </tr>\n",
       "    <tr>\n",
       "      <th>3</th>\n",
       "      <td>amedee</td>\n",
       "    </tr>\n",
       "    <tr>\n",
       "      <th>4</th>\n",
       "      <td>anders</td>\n",
       "    </tr>\n",
       "    <tr>\n",
       "      <th>...</th>\n",
       "      <td>...</td>\n",
       "    </tr>\n",
       "    <tr>\n",
       "      <th>4813</th>\n",
       "      <td>commitment</td>\n",
       "    </tr>\n",
       "    <tr>\n",
       "      <th>4814</th>\n",
       "      <td>custody</td>\n",
       "    </tr>\n",
       "    <tr>\n",
       "      <th>4815</th>\n",
       "      <td>department</td>\n",
       "    </tr>\n",
       "    <tr>\n",
       "      <th>4816</th>\n",
       "      <td>juvenile</td>\n",
       "    </tr>\n",
       "    <tr>\n",
       "      <th>4817</th>\n",
       "      <td>justice</td>\n",
       "    </tr>\n",
       "  </tbody>\n",
       "</table>\n",
       "<p>4818 rows × 1 columns</p>\n",
       "</div>"
      ],
      "text/plain": [
       "                 term\n",
       "0           louisiana\n",
       "1     representatives\n",
       "2            willmott\n",
       "3              amedee\n",
       "4              anders\n",
       "...               ...\n",
       "4813       commitment\n",
       "4814          custody\n",
       "4815       department\n",
       "4816         juvenile\n",
       "4817          justice\n",
       "\n",
       "[4818 rows x 1 columns]"
      ]
     },
     "execution_count": 8,
     "metadata": {},
     "output_type": "execute_result"
    }
   ],
   "source": [
    "df=pd.DataFrame(text_list)\n",
    "df.columns=[\"term\"]\n",
    "df"
   ]
  },
  {
   "cell_type": "markdown",
   "id": "4d230c87-fffe-4511-8a1c-3af0a41230d9",
   "metadata": {},
   "source": [
    "Count 'dem values."
   ]
  },
  {
   "cell_type": "code",
   "execution_count": 9,
   "id": "696d9ee5-5cb4-4544-b648-d7638fdc970c",
   "metadata": {},
   "outputs": [
    {
     "data": {
      "text/plain": [
       "term         \n",
       "section          122\n",
       "facility          73\n",
       "abortion          65\n",
       "remain            64\n",
       "fetal             61\n",
       "                ... \n",
       "nancy              1\n",
       "cooperatively      1\n",
       "natural            1\n",
       "cooperate          1\n",
       "hoffmann           1\n",
       "Name: count, Length: 1203, dtype: int64"
      ]
     },
     "execution_count": 9,
     "metadata": {},
     "output_type": "execute_result"
    }
   ],
   "source": [
    "df.value_counts()"
   ]
  },
  {
   "cell_type": "markdown",
   "id": "adfcf3aa-539c-4bcc-8ca0-0cdb99b8a11d",
   "metadata": {},
   "source": [
    "Export your beautiful wordcount into a .csv! And then rest easy."
   ]
  },
  {
   "cell_type": "code",
   "execution_count": 13,
   "id": "d5dcb6ef-0015-403f-ae21-7153c477d5f3",
   "metadata": {},
   "outputs": [],
   "source": [
    "df.value_counts().to_csv(\"../output/leg_wordcount\")"
   ]
  }
 ],
 "metadata": {
  "kernelspec": {
   "display_name": "Python 3 (ipykernel)",
   "language": "python",
   "name": "python3"
  },
  "language_info": {
   "codemirror_mode": {
    "name": "ipython",
    "version": 3
   },
   "file_extension": ".py",
   "mimetype": "text/x-python",
   "name": "python",
   "nbconvert_exporter": "python",
   "pygments_lexer": "ipython3",
   "version": "3.12.3"
  }
 },
 "nbformat": 4,
 "nbformat_minor": 5
}
